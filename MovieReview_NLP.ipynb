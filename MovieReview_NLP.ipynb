{
  "nbformat": 4,
  "nbformat_minor": 0,
  "metadata": {
    "colab": {
      "name": "MovieReview_NLP.ipynb",
      "provenance": [],
      "authorship_tag": "ABX9TyOzRt3ZUyfZRv/Z1mqbTYJM"
    },
    "kernelspec": {
      "name": "python3",
      "display_name": "Python 3"
    }
  },
  "cells": [
    {
      "cell_type": "markdown",
      "metadata": {
        "id": "ImO0uIZvzXdB"
      },
      "source": [
        "# Import Libraries and data"
      ]
    },
    {
      "cell_type": "markdown",
      "metadata": {
        "id": "2Cr_C_73gKg7"
      },
      "source": [
        "Import Libraries"
      ]
    },
    {
      "cell_type": "code",
      "metadata": {
        "id": "2iW8iQ9NY7vy"
      },
      "source": [
        "import nltk\n",
        "import seaborn as sns\n",
        "import pandas as pd\n",
        "import numpy as np\n",
        "import matplotlib.pyplot as plt\n",
        "from nltk import wordpunct_tokenize, word_tokenize, sent_tokenize\n",
        "from nltk.corpus import stopwords\n",
        "from nltk.corpus import wordnet as wn\n",
        "from nltk.stem import PorterStemmer\n",
        "from nltk.stem import WordNetLemmatizer\n",
        "from nltk import pos_tag\n",
        "\n",
        "ps = PorterStemmer()\n",
        "\n",
        "sw = stopwords.words('english')\n",
        "\n",
        "from sklearn.feature_extraction.text import TfidfVectorizer,CountVectorizer,TfidfTransformer\n",
        "from sklearn.naive_bayes import MultinomialNB\n",
        "from sklearn.model_selection import train_test_split\n",
        "from sklearn.metrics import accuracy_score, f1_score, precision_score, recall_score, confusion_matrix, roc_auc_score, roc_curve"
      ],
      "execution_count": 122,
      "outputs": []
    },
    {
      "cell_type": "code",
      "metadata": {
        "id": "0whM1ROx1HDQ"
      },
      "source": [
        "from collections import defaultdict\n",
        "from sklearn import model_selection, naive_bayes, svm\n",
        "from sklearn.preprocessing import LabelEncoder"
      ],
      "execution_count": 134,
      "outputs": []
    },
    {
      "cell_type": "markdown",
      "metadata": {
        "id": "eBhu3YvBgN1C"
      },
      "source": [
        "Import Data"
      ]
    },
    {
      "cell_type": "code",
      "metadata": {
        "id": "GN_rrfMsgQIK",
        "colab": {
          "base_uri": "https://localhost:8080/",
          "height": 204
        },
        "outputId": "28dea1fa-9d51-444c-f3f7-94b27baacbec"
      },
      "source": [
        "data = pd.read_csv(\"https://bd.darrenmcewan.com/ratings.tsv\", sep='\\t')\n",
        "data.review=data.review.astype(str)\n",
        "data.head()"
      ],
      "execution_count": 170,
      "outputs": [
        {
          "output_type": "execute_result",
          "data": {
            "text/html": [
              "<div>\n",
              "<style scoped>\n",
              "    .dataframe tbody tr th:only-of-type {\n",
              "        vertical-align: middle;\n",
              "    }\n",
              "\n",
              "    .dataframe tbody tr th {\n",
              "        vertical-align: top;\n",
              "    }\n",
              "\n",
              "    .dataframe thead th {\n",
              "        text-align: right;\n",
              "    }\n",
              "</style>\n",
              "<table border=\"1\" class=\"dataframe\">\n",
              "  <thead>\n",
              "    <tr style=\"text-align: right;\">\n",
              "      <th></th>\n",
              "      <th>label</th>\n",
              "      <th>review</th>\n",
              "    </tr>\n",
              "  </thead>\n",
              "  <tbody>\n",
              "    <tr>\n",
              "      <th>0</th>\n",
              "      <td>neg</td>\n",
              "      <td>how do films like mouse hunt get into theatres...</td>\n",
              "    </tr>\n",
              "    <tr>\n",
              "      <th>1</th>\n",
              "      <td>neg</td>\n",
              "      <td>some talented actresses are blessed with a dem...</td>\n",
              "    </tr>\n",
              "    <tr>\n",
              "      <th>2</th>\n",
              "      <td>pos</td>\n",
              "      <td>this has been an extraordinary year for austra...</td>\n",
              "    </tr>\n",
              "    <tr>\n",
              "      <th>3</th>\n",
              "      <td>pos</td>\n",
              "      <td>according to hollywood movies made in last few...</td>\n",
              "    </tr>\n",
              "    <tr>\n",
              "      <th>4</th>\n",
              "      <td>neg</td>\n",
              "      <td>my first press screening of 1998 and already i...</td>\n",
              "    </tr>\n",
              "  </tbody>\n",
              "</table>\n",
              "</div>"
            ],
            "text/plain": [
              "  label                                             review\n",
              "0   neg  how do films like mouse hunt get into theatres...\n",
              "1   neg  some talented actresses are blessed with a dem...\n",
              "2   pos  this has been an extraordinary year for austra...\n",
              "3   pos  according to hollywood movies made in last few...\n",
              "4   neg  my first press screening of 1998 and already i..."
            ]
          },
          "metadata": {
            "tags": []
          },
          "execution_count": 170
        }
      ]
    },
    {
      "cell_type": "markdown",
      "metadata": {
        "id": "YRoayQjgzjRg"
      },
      "source": [
        "# Data Cleaning and Split in Train/Test Set"
      ]
    },
    {
      "cell_type": "markdown",
      "metadata": {
        "id": "I3A4vx_kw5_S"
      },
      "source": [
        "There were 55 rows that were empty. Dropping them leave us with 7945 rows of data to work with"
      ]
    },
    {
      "cell_type": "code",
      "metadata": {
        "id": "Nt9k-czkh3Ex"
      },
      "source": [
        "#Drop blank rows\n",
        "data['review'].replace('', np.nan, inplace=True)\n",
        "data.dropna(subset=['review'],inplace=True)\n",
        "data.dropna(subset=['label'],inplace=True)\n",
        "\n",
        "#All words to lowercase\n",
        "data['review'] = [entry.lower() for entry in data['review']]\n",
        "\n",
        "#tokenization\n",
        "data['review']= [word_tokenize(entry) for entry in data['review']]"
      ],
      "execution_count": 171,
      "outputs": []
    },
    {
      "cell_type": "code",
      "metadata": {
        "id": "XVv50jMq02CJ"
      },
      "source": [
        "# WordNetLemmatizer requires Pos tags to understand if the word is noun or verb or adjective etc. By default it is set to Noun\n",
        "tag_map = defaultdict(lambda : wn.NOUN)\n",
        "tag_map['J'] = wn.ADJ\n",
        "tag_map['V'] = wn.VERB\n",
        "tag_map['R'] = wn.ADV\n",
        "for index,entry in enumerate(data['review']):\n",
        "    # Declaring Empty List to store the words that follow the rules for this step\n",
        "    Final_words = []\n",
        "    # Initializing WordNetLemmatizer()\n",
        "    word_Lemmatized = WordNetLemmatizer()\n",
        "    # pos_tag function below will provide the 'tag' i.e if the word is Noun(N) or Verb(V) or something else.\n",
        "    for word, tag in pos_tag(entry):\n",
        "        # Below condition is to check for Stop words and consider only alphabets\n",
        "        if word not in stopwords.words('english') and word.isalpha():\n",
        "            word_Final = word_Lemmatized.lemmatize(word,tag_map[tag[0]])\n",
        "            Final_words.append(word_Final)\n",
        "    # The final processed set of words for each iteration will be stored in 'text_final'\n",
        "    data.loc[index,'review_final'] = str(Final_words)"
      ],
      "execution_count": 172,
      "outputs": []
    },
    {
      "cell_type": "markdown",
      "metadata": {
        "id": "33cTHviExEvv"
      },
      "source": [
        "Split the data into train/test set"
      ]
    },
    {
      "cell_type": "code",
      "metadata": {
        "id": "tyqV3nEulWI5"
      },
      "source": [
        "X_train, X_test, y_train, y_test = model_selection.train_test_split(data['review_final'],data['label'],test_size=0.33,random_state=80)\n",
        "#y_train.dropna(inplace=True)\n",
        "#y_test.dropna(inplace=True)\n"
      ],
      "execution_count": 186,
      "outputs": []
    },
    {
      "cell_type": "code",
      "metadata": {
        "id": "Re4JXNYh4CIL"
      },
      "source": [
        "Encoder = LabelEncoder()\n",
        "y_train = Encoder.fit_transform(y_train)\n",
        "y_test = Encoder.fit_transform(y_test)"
      ],
      "execution_count": 187,
      "outputs": []
    },
    {
      "cell_type": "markdown",
      "metadata": {
        "id": "Q2_4sRvL7uCk"
      },
      "source": [
        "# Word Vectorization"
      ]
    },
    {
      "cell_type": "code",
      "metadata": {
        "id": "ixfSv2Lv7slY"
      },
      "source": [
        "Tfidf_vect = TfidfVectorizer(max_features=5000, stop_words='english', min_df=.01, max_df=.90)\n",
        "Tfidf_vect.fit(data['review_final'])\n",
        "Train_X_Tfidf = Tfidf_vect.transform(X_train)\n",
        "Test_X_Tfidf = Tfidf_vect.transform(X_test)\n",
        "print(Tfidf_vect.vocabulary_)"
      ],
      "execution_count": null,
      "outputs": []
    },
    {
      "cell_type": "markdown",
      "metadata": {
        "id": "ggfY7Ya1ydL7"
      },
      "source": [
        "## TF-IDF Based on Count Vectorizer"
      ]
    },
    {
      "cell_type": "markdown",
      "metadata": {
        "id": "ix0ZU-vtxM6n"
      },
      "source": [
        "This function will take in a dataset and use countVectorizer to make a df based on word and # of occurrences and also a df based on word and the term weights. I decided to return the 2nd df"
      ]
    },
    {
      "cell_type": "code",
      "metadata": {
        "id": "jxZEgqGlm6vZ"
      },
      "source": [
        "def tf_idf(dataset): \n",
        "\n",
        "  countVec = CountVectorizer(max_features= 5000, stop_words='english', min_df=.01, max_df=.90)\n",
        "\n",
        "  countVec.fit(dataset[\"review\"])\n",
        "  #useful debug, get an idea of the item list you generated\n",
        "  #list(countVec.vocabulary_.items())\n",
        "\n",
        "  countVec_count = countVec.transform(dataset[\"review\"])\n",
        "  occ = np.asarray(countVec_count.sum(axis=0)).ravel().tolist()\n",
        "\n",
        "  bowListFrame = pd.DataFrame({'term': countVec.get_feature_names(), 'occurrences': occ})\n",
        "  #print(bowListFrame)\n",
        "  #bowListFrame.sort_values(by='occurrences', ascending=False).head(60)\n",
        "\n",
        "  reviewTransformer = TfidfTransformer()\n",
        "\n",
        "  #initial fit representation using transformer object\n",
        "  reviewWeights = reviewTransformer.fit_transform(countVec_count)\n",
        "\n",
        "  #follow similar process to making new data frame with word occurrences, but with term weights\n",
        "  reviewWeightsFin = np.asarray(reviewWeights.mean(axis=0)).ravel().tolist()\n",
        "\n",
        "  #now that we've done Tfid, make a dataframe with weights and names\n",
        "  reviewWeightFrame = pd.DataFrame({'term': countVec.get_feature_names(), 'weight': reviewWeightsFin})\n",
        "  #print(reviewWeightFrame)\n",
        "  reviewWeightFrame=reviewWeightFrame.sort_values(by='weight', ascending=False).head(20)  \n",
        "  return reviewWeightFrame\n",
        "\n",
        "\n"
      ],
      "execution_count": 93,
      "outputs": []
    },
    {
      "cell_type": "code",
      "metadata": {
        "colab": {
          "base_uri": "https://localhost:8080/"
        },
        "id": "NDhussPhpVZg",
        "outputId": "1b983fdb-a753-4350-ff58-5697ed0b6f91"
      },
      "source": [
        "testWeightFrame = tf_idf(test)\n",
        "trainWeightFrame = tf_idf(train)\n",
        "\n",
        "print(trainWeightFrame)\n",
        "print(\"\\n\",testWeightFrame)"
      ],
      "execution_count": 100,
      "outputs": [
        {
          "output_type": "stream",
          "text": [
            "            term    weight\n",
            "203           br  0.116480\n",
            "1173       movie  0.072367\n",
            "669         film  0.064829\n",
            "1033        like  0.034752\n",
            "961         just  0.032627\n",
            "766         good  0.028274\n",
            "1800        time  0.026374\n",
            "139          bad  0.024863\n",
            "1681       story  0.024827\n",
            "1426      really  0.024106\n",
            "779        great  0.022622\n",
            "1174      movies  0.021719\n",
            "1284      people  0.021582\n",
            "501          don  0.021578\n",
            "1545        seen  0.019935\n",
            "1088        make  0.019760\n",
            "1927       watch  0.019162\n",
            "274   characters  0.019142\n",
            "1069        love  0.018851\n",
            "1931         way  0.018690\n",
            "\n",
            "             term    weight\n",
            "209           br  0.117084\n",
            "1127       movie  0.071765\n",
            "643         film  0.064046\n",
            "991         like  0.035206\n",
            "920         just  0.032098\n",
            "739         good  0.028146\n",
            "144          bad  0.026528\n",
            "1742        time  0.026360\n",
            "1636       story  0.025983\n",
            "1378      really  0.024578\n",
            "1238      people  0.022421\n",
            "751        great  0.021817\n",
            "1128      movies  0.021506\n",
            "485          don  0.021203\n",
            "271   characters  0.019765\n",
            "1500        seen  0.019626\n",
            "1865       watch  0.019417\n",
            "1044        make  0.019100\n",
            "1026        love  0.019000\n",
            "170         best  0.018738\n"
          ],
          "name": "stdout"
        }
      ]
    },
    {
      "cell_type": "markdown",
      "metadata": {
        "id": "910ODLjFyICY"
      },
      "source": [
        ""
      ]
    },
    {
      "cell_type": "markdown",
      "metadata": {
        "id": "VwkhqeKGyIzB"
      },
      "source": [
        "## TF-IDF Based on Tfidf Vectorizer"
      ]
    },
    {
      "cell_type": "code",
      "metadata": {
        "id": "GTygtLUHyxg4"
      },
      "source": [
        "def plot_roc_curve(fpr, tpr):\n",
        "    plt.plot(fpr, tpr, color='orange', label='ROC')\n",
        "    plt.plot([0, 1], [0, 1], color='darkblue', linestyle='--')\n",
        "    plt.xlabel('False Positive Rate')\n",
        "    plt.ylabel('True Positive Rate')\n",
        "    plt.title('Receiver Operating Characteristic (ROC) Curve')\n",
        "    plt.legend()\n",
        "    plt.show()\n",
        "    "
      ],
      "execution_count": 178,
      "outputs": []
    },
    {
      "cell_type": "code",
      "metadata": {
        "id": "S7ljc2Xuy5BX"
      },
      "source": [
        "y_train = (train['label']=='neg').astype(int)\n",
        "y_test = (test['label']=='neg').astype(int)\n",
        "\n",
        "tfidf = TfidfVectorizer(max_features= 5000, stop_words='english', min_df=.01, max_df=.90)\n",
        "tfidf.fit(train['review'])\n",
        "X_train = tfidf.transform(train['review'])\n",
        "X_test = tfidf.transform(test['review'])"
      ],
      "execution_count": 179,
      "outputs": []
    },
    {
      "cell_type": "code",
      "metadata": {
        "colab": {
          "base_uri": "https://localhost:8080/"
        },
        "id": "9bcWEjD8zB8Z",
        "outputId": "aceb5b27-3a00-4f37-8567-ecef1ce8557d"
      },
      "source": [
        "nb = MultinomialNB()\n",
        "nb.fit(X_train, y_train)\n",
        "yhat = nb.predict(X_test)\n",
        "print(accuracy_score(y_test, yhat))\n",
        "print(f1_score(y_test, yhat))\n",
        "print(precision_score(y_test, yhat))\n",
        "print(recall_score(y_test, yhat))"
      ],
      "execution_count": 180,
      "outputs": [
        {
          "output_type": "stream",
          "text": [
            "0.8775743707093822\n",
            "0.8783630162940508\n",
            "0.8727409638554217\n",
            "0.8840579710144928\n"
          ],
          "name": "stdout"
        }
      ]
    },
    {
      "cell_type": "code",
      "metadata": {
        "colab": {
          "base_uri": "https://localhost:8080/",
          "height": 312
        },
        "id": "ylAujIodzIBE",
        "outputId": "970542ad-5a61-419e-b4f6-18a86f3addf5"
      },
      "source": [
        "y_prob = nb.predict_proba(X_test)[:,1]\n",
        "fpr, tpr, thresh = roc_curve(y_test, y_prob)\n",
        "plot_roc_curve(fpr, tpr)\n",
        "print(roc_auc_score(y_test, y_prob))"
      ],
      "execution_count": 181,
      "outputs": [
        {
          "output_type": "display_data",
          "data": {
            "image/png": "[encoded data removed]",
            "text/plain": [
              "<Figure size 432x288 with 1 Axes>"
            ]
          },
          "metadata": {
            "tags": [],
            "needs_background": "light"
          }
        },
        {
          "output_type": "stream",
          "text": [
            "0.9454239518804971\n"
          ],
          "name": "stdout"
        }
      ]
    },
    {
      "cell_type": "code",
      "metadata": {
        "id": "-iiHcXKwzJyq"
      },
      "source": [
        "feats = pd.DataFrame()\n",
        "feats['words'] = tfidf.get_feature_names()\n",
        "# Convert log probabilities to probabilities. \n",
        "feats['pos'] = np.e**(nb.feature_log_prob_[0, :])\n",
        "feats['neg'] = np.e**(nb.feature_log_prob_[1, :])\n",
        "feats.set_index('words', inplace=True)"
      ],
      "execution_count": 182,
      "outputs": []
    },
    {
      "cell_type": "code",
      "metadata": {
        "colab": {
          "base_uri": "https://localhost:8080/",
          "height": 545
        },
        "id": "AWgPtVOLzLQq",
        "outputId": "b71d1503-0908-4942-cf01-192da4a93832"
      },
      "source": [
        "feats.sort_values(by='pos',ascending=False).head(15)"
      ],
      "execution_count": 202,
      "outputs": [
        {
          "output_type": "execute_result",
          "data": {
            "text/html": [
              "<div>\n",
              "<style scoped>\n",
              "    .dataframe tbody tr th:only-of-type {\n",
              "        vertical-align: middle;\n",
              "    }\n",
              "\n",
              "    .dataframe tbody tr th {\n",
              "        vertical-align: top;\n",
              "    }\n",
              "\n",
              "    .dataframe thead th {\n",
              "        text-align: right;\n",
              "    }\n",
              "</style>\n",
              "<table border=\"1\" class=\"dataframe\">\n",
              "  <thead>\n",
              "    <tr style=\"text-align: right;\">\n",
              "      <th></th>\n",
              "      <th>pos</th>\n",
              "      <th>neg</th>\n",
              "    </tr>\n",
              "    <tr>\n",
              "      <th>words</th>\n",
              "      <th></th>\n",
              "      <th></th>\n",
              "    </tr>\n",
              "  </thead>\n",
              "  <tbody>\n",
              "    <tr>\n",
              "      <th>br</th>\n",
              "      <td>0.013986</td>\n",
              "      <td>0.016294</td>\n",
              "    </tr>\n",
              "    <tr>\n",
              "      <th>film</th>\n",
              "      <td>0.008824</td>\n",
              "      <td>0.008097</td>\n",
              "    </tr>\n",
              "    <tr>\n",
              "      <th>movie</th>\n",
              "      <td>0.008104</td>\n",
              "      <td>0.010730</td>\n",
              "    </tr>\n",
              "    <tr>\n",
              "      <th>great</th>\n",
              "      <td>0.004443</td>\n",
              "      <td>0.001557</td>\n",
              "    </tr>\n",
              "    <tr>\n",
              "      <th>like</th>\n",
              "      <td>0.004037</td>\n",
              "      <td>0.005061</td>\n",
              "    </tr>\n",
              "    <tr>\n",
              "      <th>story</th>\n",
              "      <td>0.003742</td>\n",
              "      <td>0.002806</td>\n",
              "    </tr>\n",
              "    <tr>\n",
              "      <th>good</th>\n",
              "      <td>0.003716</td>\n",
              "      <td>0.003715</td>\n",
              "    </tr>\n",
              "    <tr>\n",
              "      <th>just</th>\n",
              "      <td>0.003636</td>\n",
              "      <td>0.004908</td>\n",
              "    </tr>\n",
              "    <tr>\n",
              "      <th>time</th>\n",
              "      <td>0.003471</td>\n",
              "      <td>0.003466</td>\n",
              "    </tr>\n",
              "    <tr>\n",
              "      <th>love</th>\n",
              "      <td>0.003465</td>\n",
              "      <td>0.001546</td>\n",
              "    </tr>\n",
              "    <tr>\n",
              "      <th>best</th>\n",
              "      <td>0.003315</td>\n",
              "      <td>0.001495</td>\n",
              "    </tr>\n",
              "    <tr>\n",
              "      <th>life</th>\n",
              "      <td>0.003133</td>\n",
              "      <td>0.001748</td>\n",
              "    </tr>\n",
              "    <tr>\n",
              "      <th>really</th>\n",
              "      <td>0.003024</td>\n",
              "      <td>0.003322</td>\n",
              "    </tr>\n",
              "    <tr>\n",
              "      <th>people</th>\n",
              "      <td>0.002927</td>\n",
              "      <td>0.002770</td>\n",
              "    </tr>\n",
              "    <tr>\n",
              "      <th>movies</th>\n",
              "      <td>0.002737</td>\n",
              "      <td>0.002991</td>\n",
              "    </tr>\n",
              "  </tbody>\n",
              "</table>\n",
              "</div>"
            ],
            "text/plain": [
              "             pos       neg\n",
              "words                     \n",
              "br      0.013986  0.016294\n",
              "film    0.008824  0.008097\n",
              "movie   0.008104  0.010730\n",
              "great   0.004443  0.001557\n",
              "like    0.004037  0.005061\n",
              "story   0.003742  0.002806\n",
              "good    0.003716  0.003715\n",
              "just    0.003636  0.004908\n",
              "time    0.003471  0.003466\n",
              "love    0.003465  0.001546\n",
              "best    0.003315  0.001495\n",
              "life    0.003133  0.001748\n",
              "really  0.003024  0.003322\n",
              "people  0.002927  0.002770\n",
              "movies  0.002737  0.002991"
            ]
          },
          "metadata": {
            "tags": []
          },
          "execution_count": 202
        }
      ]
    },
    {
      "cell_type": "code",
      "metadata": {
        "colab": {
          "base_uri": "https://localhost:8080/",
          "height": 545
        },
        "id": "463sj-0VzM4Z",
        "outputId": "12e43f8e-7ad5-4205-f124-a7d95fc82412"
      },
      "source": [
        "feats.sort_values(by='neg',ascending=False).head(15)"
      ],
      "execution_count": 201,
      "outputs": [
        {
          "output_type": "execute_result",
          "data": {
            "text/html": [
              "<div>\n",
              "<style scoped>\n",
              "    .dataframe tbody tr th:only-of-type {\n",
              "        vertical-align: middle;\n",
              "    }\n",
              "\n",
              "    .dataframe tbody tr th {\n",
              "        vertical-align: top;\n",
              "    }\n",
              "\n",
              "    .dataframe thead th {\n",
              "        text-align: right;\n",
              "    }\n",
              "</style>\n",
              "<table border=\"1\" class=\"dataframe\">\n",
              "  <thead>\n",
              "    <tr style=\"text-align: right;\">\n",
              "      <th></th>\n",
              "      <th>pos</th>\n",
              "      <th>neg</th>\n",
              "    </tr>\n",
              "    <tr>\n",
              "      <th>words</th>\n",
              "      <th></th>\n",
              "      <th></th>\n",
              "    </tr>\n",
              "  </thead>\n",
              "  <tbody>\n",
              "    <tr>\n",
              "      <th>br</th>\n",
              "      <td>0.013986</td>\n",
              "      <td>0.016294</td>\n",
              "    </tr>\n",
              "    <tr>\n",
              "      <th>movie</th>\n",
              "      <td>0.008104</td>\n",
              "      <td>0.010730</td>\n",
              "    </tr>\n",
              "    <tr>\n",
              "      <th>film</th>\n",
              "      <td>0.008824</td>\n",
              "      <td>0.008097</td>\n",
              "    </tr>\n",
              "    <tr>\n",
              "      <th>bad</th>\n",
              "      <td>0.000983</td>\n",
              "      <td>0.005508</td>\n",
              "    </tr>\n",
              "    <tr>\n",
              "      <th>like</th>\n",
              "      <td>0.004037</td>\n",
              "      <td>0.005061</td>\n",
              "    </tr>\n",
              "    <tr>\n",
              "      <th>just</th>\n",
              "      <td>0.003636</td>\n",
              "      <td>0.004908</td>\n",
              "    </tr>\n",
              "    <tr>\n",
              "      <th>good</th>\n",
              "      <td>0.003716</td>\n",
              "      <td>0.003715</td>\n",
              "    </tr>\n",
              "    <tr>\n",
              "      <th>time</th>\n",
              "      <td>0.003471</td>\n",
              "      <td>0.003466</td>\n",
              "    </tr>\n",
              "    <tr>\n",
              "      <th>don</th>\n",
              "      <td>0.002221</td>\n",
              "      <td>0.003457</td>\n",
              "    </tr>\n",
              "    <tr>\n",
              "      <th>really</th>\n",
              "      <td>0.003024</td>\n",
              "      <td>0.003322</td>\n",
              "    </tr>\n",
              "    <tr>\n",
              "      <th>plot</th>\n",
              "      <td>0.001542</td>\n",
              "      <td>0.003174</td>\n",
              "    </tr>\n",
              "    <tr>\n",
              "      <th>make</th>\n",
              "      <td>0.002132</td>\n",
              "      <td>0.003079</td>\n",
              "    </tr>\n",
              "    <tr>\n",
              "      <th>movies</th>\n",
              "      <td>0.002737</td>\n",
              "      <td>0.002991</td>\n",
              "    </tr>\n",
              "    <tr>\n",
              "      <th>acting</th>\n",
              "      <td>0.001767</td>\n",
              "      <td>0.002933</td>\n",
              "    </tr>\n",
              "    <tr>\n",
              "      <th>worst</th>\n",
              "      <td>0.000212</td>\n",
              "      <td>0.002915</td>\n",
              "    </tr>\n",
              "  </tbody>\n",
              "</table>\n",
              "</div>"
            ],
            "text/plain": [
              "             pos       neg\n",
              "words                     \n",
              "br      0.013986  0.016294\n",
              "movie   0.008104  0.010730\n",
              "film    0.008824  0.008097\n",
              "bad     0.000983  0.005508\n",
              "like    0.004037  0.005061\n",
              "just    0.003636  0.004908\n",
              "good    0.003716  0.003715\n",
              "time    0.003471  0.003466\n",
              "don     0.002221  0.003457\n",
              "really  0.003024  0.003322\n",
              "plot    0.001542  0.003174\n",
              "make    0.002132  0.003079\n",
              "movies  0.002737  0.002991\n",
              "acting  0.001767  0.002933\n",
              "worst   0.000212  0.002915"
            ]
          },
          "metadata": {
            "tags": []
          },
          "execution_count": 201
        }
      ]
    },
    {
      "cell_type": "markdown",
      "metadata": {
        "id": "-kZSCkjGEqWH"
      },
      "source": [
        "### Which words are most important for distinguishing between pos and neg reviews?"
      ]
    },
    {
      "cell_type": "markdown",
      "metadata": {
        "id": "8w5eObhBFCWx"
      },
      "source": [
        "Great, like, story, love, best, people are all words that had a high weight when it came to positive words. \n",
        "\n",
        "bad, just, time, plot, acting, and worst are words that scored high according to negative reviews. "
      ]
    },
    {
      "cell_type": "markdown",
      "metadata": {
        "id": "fdF1jLmD_6pf"
      },
      "source": [
        "#ML Models"
      ]
    },
    {
      "cell_type": "markdown",
      "metadata": {
        "id": "_aiVHTGcDqsw"
      },
      "source": [
        "According to our score, SVM performed the best with an accuracy score of 87.19%, followed by NB with an accuracy score of 85%. MLP had the lowest score with 84%."
      ]
    },
    {
      "cell_type": "markdown",
      "metadata": {
        "id": "UCIJd2hkAC8o"
      },
      "source": [
        "## Naive Bayes"
      ]
    },
    {
      "cell_type": "code",
      "metadata": {
        "colab": {
          "base_uri": "https://localhost:8080/"
        },
        "id": "K_p09qNd_-8g",
        "outputId": "06dec757-883a-4923-f13a-6930a1fb6be8"
      },
      "source": [
        "# fit the training dataset on the NB classifier\n",
        "Naive = naive_bayes.MultinomialNB()\n",
        "Naive.fit(Train_X_Tfidf,y_train)\n",
        "\n",
        "# predict the labels on validation dataset\n",
        "predictions_NB = Naive.predict(Test_X_Tfidf)\n",
        "\n",
        "# Use accuracy_score function to get the accuracy\n",
        "print(\"Naive Bayes Accuracy Score -> \",accuracy_score(predictions_NB, y_test)*100)"
      ],
      "execution_count": 188,
      "outputs": [
        {
          "output_type": "stream",
          "text": [
            "Naive Bayes Accuracy Score ->  85.3030303030303\n"
          ],
          "name": "stdout"
        }
      ]
    },
    {
      "cell_type": "markdown",
      "metadata": {
        "id": "YduHn8BlA3CX"
      },
      "source": [
        "## SVM"
      ]
    },
    {
      "cell_type": "code",
      "metadata": {
        "colab": {
          "base_uri": "https://localhost:8080/"
        },
        "id": "3vfC7q9iA7lc",
        "outputId": "dd9b8f9b-3edc-42a3-bb34-335f988a15ba"
      },
      "source": [
        "# Classifier - Algorithm - SVM\n",
        "# fit the training dataset on the classifier\n",
        "SVM = svm.SVC(C=1.0, kernel='linear', degree=3, gamma='auto')\n",
        "SVM.fit(Train_X_Tfidf,y_train)\n",
        "\n",
        "# predict the labels on validation dataset\n",
        "predictions_SVM = SVM.predict(Test_X_Tfidf)\n",
        "\n",
        "# Use accuracy_score function to get the accuracy\n",
        "print(\"SVM Accuracy Score -> \",accuracy_score(predictions_SVM, y_test)*100)"
      ],
      "execution_count": 189,
      "outputs": [
        {
          "output_type": "stream",
          "text": [
            "SVM Accuracy Score ->  87.19696969696969\n"
          ],
          "name": "stdout"
        }
      ]
    },
    {
      "cell_type": "markdown",
      "metadata": {
        "id": "6oUDkwR_B4uD"
      },
      "source": [
        "## Multilayer Perceptron\n"
      ]
    },
    {
      "cell_type": "code",
      "metadata": {
        "colab": {
          "base_uri": "https://localhost:8080/"
        },
        "id": "G8hRXztqB7-n",
        "outputId": "db0ede65-701a-4170-8083-b06a4fe7d7c8"
      },
      "source": [
        "from sklearn.neural_network import MLPClassifier\n",
        "MLP = MLPClassifier(solver='lbfgs', alpha=1e-3, random_state=3)\n",
        "MLP.fit(Train_X_Tfidf,y_train)\n",
        "\n",
        "\n",
        "predictions_MLP = MLP.predict(Test_X_Tfidf)\n",
        "print(\"MLP Accuracy Score -> \",accuracy_score(predictions_MLP, y_test)*100)"
      ],
      "execution_count": 200,
      "outputs": [
        {
          "output_type": "stream",
          "text": [
            "MLP Accuracy Score ->  83.56060606060606\n"
          ],
          "name": "stdout"
        }
      ]
    },
    {
      "cell_type": "markdown",
      "metadata": {
        "id": "QL2gNMpSFlyq"
      },
      "source": [
        "# Vader Sentiment Analysis"
      ]
    },
    {
      "cell_type": "code",
      "metadata": {
        "id": "OnPzMhuUFp9_"
      },
      "source": [
        "from vaderSentiment.vaderSentiment import SentimentIntensityAnalyzer "
      ],
      "execution_count": 205,
      "outputs": []
    },
    {
      "cell_type": "code",
      "metadata": {
        "id": "LIqRtxjuGQlC"
      },
      "source": [
        "def sentiment_scores(sentence):\n",
        "  sid_obj = SentimentIntensityAnalyzer()\n",
        "  sentiment_dict = sid_obj.polarity_scores(sentence)\n",
        "\n",
        "  # decide sentiment as positive, negative and neutral \n",
        "  if sentiment_dict['compound'] >= 0.05 : \n",
        "        print(\"Positive\") \n",
        "  \n",
        "  elif sentiment_dict['compound'] <= - 0.05 : \n",
        "        print(\"Negative\") \n",
        "  \n",
        "  else : \n",
        "        print(\"Neutral\") \n",
        "  #print(\"{:-<40} {}\".format(sentence, str(sentiment_dict)))"
      ],
      "execution_count": 228,
      "outputs": []
    },
    {
      "cell_type": "code",
      "metadata": {
        "colab": {
          "base_uri": "https://localhost:8080/"
        },
        "id": "O-d7lG-oGoPn",
        "outputId": "55e3ddf1-d65b-48ee-b9f3-78c144dc366a"
      },
      "source": [
        "for i in range(10):\n",
        "  sentiment_scores(data['review'][i])\n",
        "\n"
      ],
      "execution_count": 229,
      "outputs": [
        {
          "output_type": "stream",
          "text": [
            "Neutral\n",
            "Neutral\n",
            "Neutral\n",
            "Neutral\n",
            "Neutral\n",
            "Neutral\n",
            "Neutral\n",
            "Neutral\n",
            "Neutral\n",
            "Neutral\n"
          ],
          "name": "stdout"
        }
      ]
    },
    {
      "cell_type": "markdown",
      "metadata": {
        "id": "8Md8RR8WHj7i"
      },
      "source": [
        "The Vader sentiment analysis was terribly innacurate for my data"
      ]
    },
    {
      "cell_type": "markdown",
      "metadata": {
        "id": "oIs_Jl0DI0Yw"
      },
      "source": [
        "# Text Blob"
      ]
    },
    {
      "cell_type": "code",
      "metadata": {
        "colab": {
          "base_uri": "https://localhost:8080/"
        },
        "id": "nZNHzejWI2-f",
        "outputId": "2f7188e0-8f05-4e20-deea-765969282bfc"
      },
      "source": [
        "from textblob import TextBlob\n",
        "\n",
        "def blobSentiment(text):\n",
        "  blob = TextBlob(text)\n",
        "  for sentence in blob.sentences:\n",
        "    print(sentence.sentiment.polarity)\n",
        "\n",
        "for i in range(10):\n",
        "  sentiment_scores(data['review'][i])"
      ],
      "execution_count": 232,
      "outputs": [
        {
          "output_type": "stream",
          "text": [
            "Neutral\n",
            "Neutral\n",
            "Neutral\n",
            "Neutral\n",
            "Neutral\n",
            "Neutral\n",
            "Neutral\n",
            "Neutral\n",
            "Neutral\n",
            "Neutral\n"
          ],
          "name": "stdout"
        }
      ]
    },
    {
      "cell_type": "markdown",
      "metadata": {
        "id": "ihRagv2OKY_5"
      },
      "source": [
        "# Topic Modeling\n"
      ]
    },
    {
      "cell_type": "markdown",
      "metadata": {
        "id": "-sEOcyDDKc4X"
      },
      "source": [
        "Run LDA topic modeling using gensim on the movie reviews. How many topics are there? What are\n",
        "the most common words in each topic?\n"
      ]
    },
    {
      "cell_type": "code",
      "metadata": {
        "id": "7e4S5LlSKb-_"
      },
      "source": [
        "# Gensim\n",
        "import gensim, spacy, logging, warnings\n",
        "import gensim.corpora as corpora\n",
        "from gensim.utils import lemmatize, simple_preprocess\n",
        "from gensim.models import CoherenceModel\n",
        "import matplotlib.pyplot as plt"
      ],
      "execution_count": 239,
      "outputs": []
    },
    {
      "cell_type": "code",
      "metadata": {
        "id": "apq7WvBRKs_f"
      },
      "source": [
        "ntopics = 8\n",
        "\n",
        "# Create Dictionary\n",
        "\n",
        "id2word = corpora.Dictionary(data['review'])\n",
        "\n",
        "# Create Corpus: Term Document Frequency\n",
        "\n",
        "corpus = [id2word.doc2bow(text) for text in data.review]\n",
        "\n",
        "# Build LDA model\n",
        "lda_model = gensim.models.ldamodel.LdaModel(corpus=corpus,\n",
        "                                           id2word=id2word,\n",
        "                                           num_topics=ntopics, \n",
        "                                           random_state=100,\n",
        "                                           update_every=1,\n",
        "                                           chunksize=10,\n",
        "                                           passes=10,\n",
        "                                           alpha='symmetric',\n",
        "                                           iterations=100,\n",
        "                                           per_word_topics=True)\n",
        "\n",
        "ldatopics = lda_model.show_topics(formatted=False)\n",
        "pprint(lda_model.print_topics())"
      ],
      "execution_count": null,
      "outputs": []
    }
  ]
}